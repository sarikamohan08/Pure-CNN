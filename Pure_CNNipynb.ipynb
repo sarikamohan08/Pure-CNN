{
  "nbformat": 4,
  "nbformat_minor": 0,
  "metadata": {
    "colab": {
      "name": "Pure CNNipynb",
      "provenance": [],
      "mount_file_id": "1hyl8wzF9WFseK1BvvWXWmRkXtcP6BHOA",
      "authorship_tag": "ABX9TyPyCxyoWT+/Fp3eXi5QS2ze",
      "include_colab_link": true
    },
    "kernelspec": {
      "name": "python3",
      "display_name": "Python 3"
    },
    "language_info": {
      "name": "python"
    },
    "accelerator": "GPU"
  },
  "cells": [
    {
      "cell_type": "markdown",
      "metadata": {
        "id": "view-in-github",
        "colab_type": "text"
      },
      "source": [
        "<a href=\"https://colab.research.google.com/github/sarikamohan08/Pure-CNN/blob/main/Pure_CNNipynb.ipynb\" target=\"_parent\"><img src=\"https://colab.research.google.com/assets/colab-badge.svg\" alt=\"Open In Colab\"/></a>"
      ]
    },
    {
      "cell_type": "code",
      "metadata": {
        "id": "wKURZnBjk-R9"
      },
      "source": [
        "import os\n",
        "os='/content/drive/MyDrive/Colab Notebooks/deep learning/mnist cnn'"
      ],
      "execution_count": 12,
      "outputs": []
    },
    {
      "cell_type": "code",
      "metadata": {
        "id": "U5OOPoVVaKrx"
      },
      "source": [
        "import tensorflow as tf\n",
        "import numpy as np\n",
        "import pandas as pd\n",
        "import matplotlib.pyplot as plt\n",
        "import seaborn as sns"
      ],
      "execution_count": 2,
      "outputs": []
    },
    {
      "cell_type": "code",
      "metadata": {
        "id": "DlcnGr5YaNoh"
      },
      "source": [
        "\n",
        "from tensorflow.keras import Model\n",
        "from tensorflow.keras.models import Sequential\n",
        "from tensorflow.keras.losses import categorical_crossentropy\n",
        "from tensorflow.keras.layers import Dense, Flatten, Conv2D, MaxPooling2D,Dropout\n",
        "from tensorflow.keras.layers import Activation,BatchNormalization\n",
        "from tensorflow.keras import datasets\n",
        "from tensorflow.keras.utils import to_categorical"
      ],
      "execution_count": 3,
      "outputs": []
    },
    {
      "cell_type": "code",
      "metadata": {
        "colab": {
          "base_uri": "https://localhost:8080/"
        },
        "id": "tBmv4c0GaPnb",
        "outputId": "aa1aaacf-9af2-405b-d592-076ffb36576e"
      },
      "source": [
        "(x_train, y_train), (x_test, y_test) = datasets.mnist.load_data()"
      ],
      "execution_count": 4,
      "outputs": [
        {
          "output_type": "stream",
          "text": [
            "Downloading data from https://storage.googleapis.com/tensorflow/tf-keras-datasets/mnist.npz\n",
            "11493376/11490434 [==============================] - 0s 0us/step\n"
          ],
          "name": "stdout"
        }
      ]
    },
    {
      "cell_type": "code",
      "metadata": {
        "id": "Gm-PyhHuaRV_"
      },
      "source": [
        "x_train = x_train.reshape(x_train.shape[0], 28, 28, 1)\n",
        "x_test = x_test.reshape(x_test.shape[0], 28, 28, 1)"
      ],
      "execution_count": 5,
      "outputs": []
    },
    {
      "cell_type": "code",
      "metadata": {
        "id": "QebOSDLwaTKG"
      },
      "source": [
        "x_train = x_train / 255\n",
        "x_test = x_test / 255"
      ],
      "execution_count": 6,
      "outputs": []
    },
    {
      "cell_type": "code",
      "metadata": {
        "id": "iEPhaVUdaUyz"
      },
      "source": [
        "y_train = tf.keras.utils.to_categorical(y_train, 10)\n",
        "y_test = tf.keras.utils.to_categorical(y_test, 10)"
      ],
      "execution_count": 7,
      "outputs": []
    },
    {
      "cell_type": "code",
      "metadata": {
        "colab": {
          "base_uri": "https://localhost:8080/"
        },
        "id": "pklG9zhfaY_D",
        "outputId": "2e094b45-6216-44c4-99e4-bc30e39b4767"
      },
      "source": [
        "model1 = Sequential()#input image will be 26x26\n",
        "#convo 1\n",
        "model1.add(Conv2D(10, kernel_size=(3,3), activation='relu', input_shape=(28,28,1)))\n",
        "model1.add(BatchNormalization())\n",
        "model1.add(Dropout(0.1))\n",
        "#convo 2\n",
        "model1.add(Conv2D(16, kernel_size=(3,3), activation='relu'))       \n",
        "model1.add(MaxPooling2D(pool_size=(2, 2))) \n",
        "#convo 3\n",
        "model1.add(Conv2D(10, kernel_size=(1,1),activation='relu'))\n",
        "model1.add(BatchNormalization())\n",
        "model1.add(Dropout(0.1))                 \n",
        "#convo 4                               \n",
        "model1.add(Conv2D(10, kernel_size=(3,3),activation='relu'))\n",
        "model1.add(BatchNormalization())\n",
        "model1.add(Dropout(0.1))\n",
        "#convo 5\n",
        "model1.add(Conv2D(16, kernel_size=(3,3),activation='relu'))\n",
        "model1.add(BatchNormalization())\n",
        "model1.add(Dropout(0.1))\n",
        "#convo 6\n",
        "model1.add(Conv2D(10, kernel_size=(3,3), activation='relu'))\n",
        "model1.add(BatchNormalization())\n",
        "model1.add(Dropout(0.1))\n",
        "#convo 7\n",
        "model1.add(Conv2D(16, kernel_size=(3,3),activation='relu'))\n",
        "model1.add(BatchNormalization())\n",
        "model1.add(Dropout(0.1))\n",
        "#convo 8\n",
        "model1.add(Conv2D(10, kernel_size=(4,4)))\n",
        "#flatten\n",
        "model1.add(Flatten())\n",
        "#prediction\n",
        "model1.add(Activation('softmax'))\n",
        "#summary\n",
        "model1.summary()"
      ],
      "execution_count": 14,
      "outputs": [
        {
          "output_type": "stream",
          "text": [
            "Model: \"sequential_1\"\n",
            "_________________________________________________________________\n",
            "Layer (type)                 Output Shape              Param #   \n",
            "=================================================================\n",
            "conv2d_8 (Conv2D)            (None, 26, 26, 10)        100       \n",
            "_________________________________________________________________\n",
            "batch_normalization_6 (Batch (None, 26, 26, 10)        40        \n",
            "_________________________________________________________________\n",
            "dropout_6 (Dropout)          (None, 26, 26, 10)        0         \n",
            "_________________________________________________________________\n",
            "conv2d_9 (Conv2D)            (None, 24, 24, 16)        1456      \n",
            "_________________________________________________________________\n",
            "max_pooling2d_1 (MaxPooling2 (None, 12, 12, 16)        0         \n",
            "_________________________________________________________________\n",
            "conv2d_10 (Conv2D)           (None, 12, 12, 10)        170       \n",
            "_________________________________________________________________\n",
            "batch_normalization_7 (Batch (None, 12, 12, 10)        40        \n",
            "_________________________________________________________________\n",
            "dropout_7 (Dropout)          (None, 12, 12, 10)        0         \n",
            "_________________________________________________________________\n",
            "conv2d_11 (Conv2D)           (None, 10, 10, 10)        910       \n",
            "_________________________________________________________________\n",
            "batch_normalization_8 (Batch (None, 10, 10, 10)        40        \n",
            "_________________________________________________________________\n",
            "dropout_8 (Dropout)          (None, 10, 10, 10)        0         \n",
            "_________________________________________________________________\n",
            "conv2d_12 (Conv2D)           (None, 8, 8, 16)          1456      \n",
            "_________________________________________________________________\n",
            "batch_normalization_9 (Batch (None, 8, 8, 16)          64        \n",
            "_________________________________________________________________\n",
            "dropout_9 (Dropout)          (None, 8, 8, 16)          0         \n",
            "_________________________________________________________________\n",
            "conv2d_13 (Conv2D)           (None, 6, 6, 10)          1450      \n",
            "_________________________________________________________________\n",
            "batch_normalization_10 (Batc (None, 6, 6, 10)          40        \n",
            "_________________________________________________________________\n",
            "dropout_10 (Dropout)         (None, 6, 6, 10)          0         \n",
            "_________________________________________________________________\n",
            "conv2d_14 (Conv2D)           (None, 4, 4, 16)          1456      \n",
            "_________________________________________________________________\n",
            "batch_normalization_11 (Batc (None, 4, 4, 16)          64        \n",
            "_________________________________________________________________\n",
            "dropout_11 (Dropout)         (None, 4, 4, 16)          0         \n",
            "_________________________________________________________________\n",
            "conv2d_15 (Conv2D)           (None, 1, 1, 10)          2570      \n",
            "_________________________________________________________________\n",
            "flatten_1 (Flatten)          (None, 10)                0         \n",
            "_________________________________________________________________\n",
            "activation_1 (Activation)    (None, 10)                0         \n",
            "=================================================================\n",
            "Total params: 9,856\n",
            "Trainable params: 9,712\n",
            "Non-trainable params: 144\n",
            "_________________________________________________________________\n"
          ],
          "name": "stdout"
        }
      ]
    },
    {
      "cell_type": "code",
      "metadata": {
        "id": "yzpX0onRcFH6"
      },
      "source": [
        "early_stopping_cb = tf.keras.callbacks.EarlyStopping(patience=5, restore_best_weights=True)\n",
        "CKPT_path = \"model_ckpt.h5\"\n",
        "checkpointing_cb = tf.keras.callbacks.ModelCheckpoint(CKPT_path, save_best_only=True)"
      ],
      "execution_count": 15,
      "outputs": []
    },
    {
      "cell_type": "code",
      "metadata": {
        "colab": {
          "base_uri": "https://localhost:8080/"
        },
        "id": "uVlaZ5jqaZmT",
        "outputId": "e50cd367-7a44-4635-de4d-24dcb754b290"
      },
      "source": [
        "model1.compile(loss=tf.keras.metrics.categorical_crossentropy, optimizer=tf.keras.optimizers.Adam(), metrics=['accuracy'])\n",
        "history=model1.fit(x_train, y_train, batch_size=128, epochs=50, verbose=1, validation_data=(x_test, y_test)\n",
        "                   )"
      ],
      "execution_count": 17,
      "outputs": [
        {
          "output_type": "stream",
          "text": [
            "Epoch 1/50\n",
            "469/469 [==============================] - 7s 13ms/step - loss: 0.0305 - accuracy: 0.9903 - val_loss: 0.0222 - val_accuracy: 0.9932\n",
            "Epoch 2/50\n",
            "469/469 [==============================] - 6s 12ms/step - loss: 0.0279 - accuracy: 0.9910 - val_loss: 0.0215 - val_accuracy: 0.9930\n",
            "Epoch 3/50\n",
            "469/469 [==============================] - 6s 12ms/step - loss: 0.0257 - accuracy: 0.9917 - val_loss: 0.0249 - val_accuracy: 0.9925\n",
            "Epoch 4/50\n",
            "469/469 [==============================] - 6s 13ms/step - loss: 0.0261 - accuracy: 0.9915 - val_loss: 0.0209 - val_accuracy: 0.9934\n",
            "Epoch 5/50\n",
            "469/469 [==============================] - 6s 12ms/step - loss: 0.0293 - accuracy: 0.9908 - val_loss: 0.0235 - val_accuracy: 0.9928\n",
            "Epoch 6/50\n",
            "469/469 [==============================] - 6s 12ms/step - loss: 0.0259 - accuracy: 0.9916 - val_loss: 0.0235 - val_accuracy: 0.9928\n",
            "Epoch 7/50\n",
            "469/469 [==============================] - 6s 12ms/step - loss: 0.0260 - accuracy: 0.9914 - val_loss: 0.0230 - val_accuracy: 0.9930\n",
            "Epoch 8/50\n",
            "469/469 [==============================] - 6s 12ms/step - loss: 0.0254 - accuracy: 0.9918 - val_loss: 0.0211 - val_accuracy: 0.9939\n",
            "Epoch 9/50\n",
            "469/469 [==============================] - 6s 13ms/step - loss: 0.0256 - accuracy: 0.9913 - val_loss: 0.0229 - val_accuracy: 0.9932\n",
            "Epoch 10/50\n",
            "469/469 [==============================] - 6s 12ms/step - loss: 0.0246 - accuracy: 0.9923 - val_loss: 0.0228 - val_accuracy: 0.9929\n",
            "Epoch 11/50\n",
            "469/469 [==============================] - 6s 12ms/step - loss: 0.0253 - accuracy: 0.9917 - val_loss: 0.0233 - val_accuracy: 0.9930\n",
            "Epoch 12/50\n",
            "469/469 [==============================] - 6s 12ms/step - loss: 0.0227 - accuracy: 0.9927 - val_loss: 0.0228 - val_accuracy: 0.9936\n",
            "Epoch 13/50\n",
            "469/469 [==============================] - 6s 13ms/step - loss: 0.0230 - accuracy: 0.9929 - val_loss: 0.0198 - val_accuracy: 0.9936\n",
            "Epoch 14/50\n",
            "469/469 [==============================] - 6s 12ms/step - loss: 0.0232 - accuracy: 0.9925 - val_loss: 0.0199 - val_accuracy: 0.9946\n",
            "Epoch 15/50\n",
            "469/469 [==============================] - 6s 12ms/step - loss: 0.0231 - accuracy: 0.9927 - val_loss: 0.0217 - val_accuracy: 0.9933\n",
            "Epoch 16/50\n",
            "469/469 [==============================] - 6s 12ms/step - loss: 0.0207 - accuracy: 0.9930 - val_loss: 0.0240 - val_accuracy: 0.9936\n",
            "Epoch 17/50\n",
            "469/469 [==============================] - 6s 12ms/step - loss: 0.0239 - accuracy: 0.9923 - val_loss: 0.0220 - val_accuracy: 0.9931\n",
            "Epoch 18/50\n",
            "469/469 [==============================] - 6s 13ms/step - loss: 0.0228 - accuracy: 0.9925 - val_loss: 0.0185 - val_accuracy: 0.9944\n",
            "Epoch 19/50\n",
            "469/469 [==============================] - 6s 12ms/step - loss: 0.0220 - accuracy: 0.9927 - val_loss: 0.0216 - val_accuracy: 0.9934\n",
            "Epoch 20/50\n",
            "469/469 [==============================] - 6s 12ms/step - loss: 0.0215 - accuracy: 0.9933 - val_loss: 0.0245 - val_accuracy: 0.9928\n",
            "Epoch 21/50\n",
            "469/469 [==============================] - 6s 12ms/step - loss: 0.0208 - accuracy: 0.9931 - val_loss: 0.0203 - val_accuracy: 0.9942\n",
            "Epoch 22/50\n",
            "469/469 [==============================] - 6s 12ms/step - loss: 0.0219 - accuracy: 0.9929 - val_loss: 0.0203 - val_accuracy: 0.9936\n",
            "Epoch 23/50\n",
            "469/469 [==============================] - 6s 13ms/step - loss: 0.0201 - accuracy: 0.9934 - val_loss: 0.0210 - val_accuracy: 0.9942\n",
            "Epoch 24/50\n",
            "469/469 [==============================] - 6s 12ms/step - loss: 0.0202 - accuracy: 0.9933 - val_loss: 0.0253 - val_accuracy: 0.9926\n",
            "Epoch 25/50\n",
            "469/469 [==============================] - 6s 12ms/step - loss: 0.0207 - accuracy: 0.9934 - val_loss: 0.0211 - val_accuracy: 0.9945\n",
            "Epoch 26/50\n",
            "469/469 [==============================] - 6s 12ms/step - loss: 0.0225 - accuracy: 0.9926 - val_loss: 0.0209 - val_accuracy: 0.9938\n",
            "Epoch 27/50\n",
            "469/469 [==============================] - 6s 12ms/step - loss: 0.0196 - accuracy: 0.9934 - val_loss: 0.0197 - val_accuracy: 0.9940\n",
            "Epoch 28/50\n",
            "469/469 [==============================] - 6s 12ms/step - loss: 0.0195 - accuracy: 0.9937 - val_loss: 0.0204 - val_accuracy: 0.9936\n",
            "Epoch 29/50\n",
            "469/469 [==============================] - 6s 12ms/step - loss: 0.0201 - accuracy: 0.9934 - val_loss: 0.0214 - val_accuracy: 0.9933\n",
            "Epoch 30/50\n",
            "469/469 [==============================] - 6s 12ms/step - loss: 0.0194 - accuracy: 0.9940 - val_loss: 0.0199 - val_accuracy: 0.9940\n",
            "Epoch 31/50\n",
            "469/469 [==============================] - 6s 12ms/step - loss: 0.0187 - accuracy: 0.9937 - val_loss: 0.0232 - val_accuracy: 0.9931\n",
            "Epoch 32/50\n",
            "469/469 [==============================] - 6s 12ms/step - loss: 0.0195 - accuracy: 0.9934 - val_loss: 0.0220 - val_accuracy: 0.9932\n",
            "Epoch 33/50\n",
            "469/469 [==============================] - 6s 12ms/step - loss: 0.0197 - accuracy: 0.9934 - val_loss: 0.0217 - val_accuracy: 0.9939\n",
            "Epoch 34/50\n",
            "469/469 [==============================] - 6s 12ms/step - loss: 0.0187 - accuracy: 0.9939 - val_loss: 0.0188 - val_accuracy: 0.9943\n",
            "Epoch 35/50\n",
            "469/469 [==============================] - 6s 12ms/step - loss: 0.0180 - accuracy: 0.9942 - val_loss: 0.0187 - val_accuracy: 0.9944\n",
            "Epoch 36/50\n",
            "469/469 [==============================] - 6s 12ms/step - loss: 0.0172 - accuracy: 0.9945 - val_loss: 0.0227 - val_accuracy: 0.9937\n",
            "Epoch 37/50\n",
            "469/469 [==============================] - 6s 12ms/step - loss: 0.0188 - accuracy: 0.9936 - val_loss: 0.0203 - val_accuracy: 0.9945\n",
            "Epoch 38/50\n",
            "469/469 [==============================] - 6s 12ms/step - loss: 0.0182 - accuracy: 0.9943 - val_loss: 0.0212 - val_accuracy: 0.9941\n",
            "Epoch 39/50\n",
            "469/469 [==============================] - 6s 13ms/step - loss: 0.0190 - accuracy: 0.9938 - val_loss: 0.0204 - val_accuracy: 0.9936\n",
            "Epoch 40/50\n",
            "469/469 [==============================] - 6s 13ms/step - loss: 0.0184 - accuracy: 0.9943 - val_loss: 0.0190 - val_accuracy: 0.9944\n",
            "Epoch 41/50\n",
            "469/469 [==============================] - 6s 13ms/step - loss: 0.0168 - accuracy: 0.9943 - val_loss: 0.0180 - val_accuracy: 0.9941\n",
            "Epoch 42/50\n",
            "469/469 [==============================] - 6s 12ms/step - loss: 0.0188 - accuracy: 0.9936 - val_loss: 0.0188 - val_accuracy: 0.9946\n",
            "Epoch 43/50\n",
            "469/469 [==============================] - 6s 13ms/step - loss: 0.0168 - accuracy: 0.9945 - val_loss: 0.0186 - val_accuracy: 0.9948\n",
            "Epoch 44/50\n",
            "469/469 [==============================] - 6s 13ms/step - loss: 0.0163 - accuracy: 0.9945 - val_loss: 0.0214 - val_accuracy: 0.9933\n",
            "Epoch 45/50\n",
            "469/469 [==============================] - 6s 12ms/step - loss: 0.0191 - accuracy: 0.9940 - val_loss: 0.0196 - val_accuracy: 0.9945\n",
            "Epoch 46/50\n",
            "469/469 [==============================] - 6s 12ms/step - loss: 0.0168 - accuracy: 0.9944 - val_loss: 0.0245 - val_accuracy: 0.9925\n",
            "Epoch 47/50\n",
            "469/469 [==============================] - 6s 13ms/step - loss: 0.0167 - accuracy: 0.9945 - val_loss: 0.0230 - val_accuracy: 0.9938\n",
            "Epoch 48/50\n",
            "469/469 [==============================] - 6s 13ms/step - loss: 0.0165 - accuracy: 0.9945 - val_loss: 0.0229 - val_accuracy: 0.9938\n",
            "Epoch 49/50\n",
            "469/469 [==============================] - 6s 12ms/step - loss: 0.0175 - accuracy: 0.9941 - val_loss: 0.0195 - val_accuracy: 0.9942\n",
            "Epoch 50/50\n",
            "469/469 [==============================] - 6s 12ms/step - loss: 0.0171 - accuracy: 0.9944 - val_loss: 0.0205 - val_accuracy: 0.9944\n"
          ],
          "name": "stdout"
        }
      ]
    },
    {
      "cell_type": "markdown",
      "metadata": {
        "id": "pazcet-Zw_Q3"
      },
      "source": [
        "# results"
      ]
    },
    {
      "cell_type": "markdown",
      "metadata": {
        "id": "OC2c1b3Jv1D5"
      },
      "source": [
        "1. val_accuracy:99.44%\n",
        "2. no.of trainable parameters :9,712"
      ]
    }
  ]
}